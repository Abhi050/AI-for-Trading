{
 "cells": [
  {
   "cell_type": "markdown",
   "metadata": {},
   "source": [
    "# Text Processing\n",
    "\n",
    "## Capturing Text Data\n",
    "\n",
    "### Plain Text"
   ]
  },
  {
   "cell_type": "code",
   "execution_count": 1,
   "metadata": {},
   "outputs": [
    {
     "name": "stdout",
     "output_type": "stream",
     "text": [
      "Hieroglyphic writing dates from c. 3000 BC, and is composed of hundreds of symbols. A hieroglyph can represent a word, a sound, or a silent determinative; and the same symbol can serve different purposes in different contexts. Hieroglyphs were a formal script, used on stone monuments and in tombs, that could be as detailed as individual works of art.\n",
      "\n"
     ]
    }
   ],
   "source": [
    "import os\n",
    "\n",
    "# Read in a plain text file\n",
    "with open(os.path.join(\"data\", \"hieroglyph.txt\"), \"r\") as f:\n",
    "    text = f.read()\n",
    "    print(text)"
   ]
  },
  {
   "cell_type": "markdown",
   "metadata": {},
   "source": [
    "### Tabular Data"
   ]
  },
  {
   "cell_type": "code",
   "execution_count": 2,
   "metadata": {
    "scrolled": true
   },
   "outputs": [
    {
     "data": {
      "text/html": [
       "<div>\n",
       "<style scoped>\n",
       "    .dataframe tbody tr th:only-of-type {\n",
       "        vertical-align: middle;\n",
       "    }\n",
       "\n",
       "    .dataframe tbody tr th {\n",
       "        vertical-align: top;\n",
       "    }\n",
       "\n",
       "    .dataframe thead th {\n",
       "        text-align: right;\n",
       "    }\n",
       "</style>\n",
       "<table border=\"1\" class=\"dataframe\">\n",
       "  <thead>\n",
       "    <tr style=\"text-align: right;\">\n",
       "      <th></th>\n",
       "      <th>publisher</th>\n",
       "      <th>title</th>\n",
       "    </tr>\n",
       "  </thead>\n",
       "  <tbody>\n",
       "    <tr>\n",
       "      <th>0</th>\n",
       "      <td>Livemint</td>\n",
       "      <td>fed's charles plosser sees high bar for change...</td>\n",
       "    </tr>\n",
       "    <tr>\n",
       "      <th>1</th>\n",
       "      <td>IFA Magazine</td>\n",
       "      <td>us open: stocks fall after fed official hints ...</td>\n",
       "    </tr>\n",
       "    <tr>\n",
       "      <th>2</th>\n",
       "      <td>IFA Magazine</td>\n",
       "      <td>fed risks falling 'behind the curve', charles ...</td>\n",
       "    </tr>\n",
       "    <tr>\n",
       "      <th>3</th>\n",
       "      <td>Moneynews</td>\n",
       "      <td>fed's plosser: nasty weather has curbed job gr...</td>\n",
       "    </tr>\n",
       "    <tr>\n",
       "      <th>4</th>\n",
       "      <td>NASDAQ</td>\n",
       "      <td>plosser: fed may have to accelerate tapering pace</td>\n",
       "    </tr>\n",
       "  </tbody>\n",
       "</table>\n",
       "</div>"
      ],
      "text/plain": [
       "      publisher                                              title\n",
       "0      Livemint  fed's charles plosser sees high bar for change...\n",
       "1  IFA Magazine  us open: stocks fall after fed official hints ...\n",
       "2  IFA Magazine  fed risks falling 'behind the curve', charles ...\n",
       "3     Moneynews  fed's plosser: nasty weather has curbed job gr...\n",
       "4        NASDAQ  plosser: fed may have to accelerate tapering pace"
      ]
     },
     "execution_count": 2,
     "metadata": {},
     "output_type": "execute_result"
    }
   ],
   "source": [
    "import pandas as pd\n",
    "\n",
    "# Extract text column from a dataframe\n",
    "df = pd.read_csv(os.path.join(\"data\", \"news.csv\"))\n",
    "df.head()[['publisher', 'title']]\n",
    "\n",
    "# Convert text column to lowercase\n",
    "df['title'] = df['title'].str.lower()\n",
    "df.head()[['publisher', 'title']]"
   ]
  },
  {
   "cell_type": "markdown",
   "metadata": {},
   "source": [
    "### Online Resource"
   ]
  },
  {
   "cell_type": "code",
   "execution_count": 3,
   "metadata": {
    "scrolled": true
   },
   "outputs": [
    {
     "name": "stdout",
     "output_type": "stream",
     "text": [
      "{\n",
      "    \"success\": {\n",
      "        \"total\": 1\n",
      "    },\n",
      "    \"contents\": {\n",
      "        \"quotes\": [\n",
      "            {\n",
      "                \"quote\": \"Only a man who knows what it is like to be defeated can reach down to the bottom of his soul and come up with the extra ounce of power it takes to win when the match is even.\",\n",
      "                \"length\": \"174\",\n",
      "                \"author\": \"Mohamad Ali\",\n",
      "                \"tags\": [\n",
      "                    \"failure\",\n",
      "                    \"inspire\",\n",
      "                    \"learning-from-failure\",\n",
      "                    \"tod\"\n",
      "                ],\n",
      "                \"category\": \"inspire\",\n",
      "                \"date\": \"2020-02-09\",\n",
      "                \"permalink\": \"https://theysaidso.com/quote/mohamad-ali-only-a-man-who-knows-what-it-is-like-to-be-defeated-can-reach-down-t\",\n",
      "                \"title\": \"Inspiring Quote of the day\",\n",
      "                \"background\": \"https://theysaidso.com/img/qod/qod-inspire.jpg\",\n",
      "                \"id\": \"Ry0zJKKjfxjxz__BMB9plgeF\"\n",
      "            }\n",
      "        ],\n",
      "        \"copyright\": \"2017-19 theysaidso.com\"\n",
      "    }\n",
      "}\n",
      "Only a man who knows what it is like to be defeated can reach down to the bottom of his soul and come up with the extra ounce of power it takes to win when the match is even. \n",
      "-- Mohamad Ali\n"
     ]
    }
   ],
   "source": [
    "import requests\n",
    "import json\n",
    "\n",
    "# Fetch data from a REST API\n",
    "r = requests.get(\n",
    "    \"https://quotes.rest/qod.json\")\n",
    "res = r.json()\n",
    "print(json.dumps(res, indent=4))\n",
    "\n",
    "# Extract relevant object and field\n",
    "q = res[\"contents\"][\"quotes\"][0]\n",
    "print(q[\"quote\"], \"\\n--\", q[\"author\"])"
   ]
  },
  {
   "cell_type": "markdown",
   "metadata": {},
   "source": [
    "## Cleaning"
   ]
  },
  {
   "cell_type": "code",
   "execution_count": 4,
   "metadata": {
    "scrolled": true
   },
   "outputs": [
    {
     "name": "stdout",
     "output_type": "stream",
     "text": [
      "<html op=\"news\"><head><meta name=\"referrer\" content=\"origin\"><meta name=\"viewport\" content=\"width=device-width, initial-scale=1.0\"><link rel=\"stylesheet\" type=\"text/css\" href=\"news.css?I1JdiACTDx2yx3SZspCv\">\n",
      "        <link rel=\"shortcut icon\" href=\"favicon.ico\">\n",
      "          <link rel=\"alternate\" type=\"application/rss+xml\" title=\"RSS\" href=\"rss\">\n",
      "        <title>Hacker News</title></head><body><center><table id=\"hnmain\" border=\"0\" cellpadding=\"0\" cellspacing=\"0\" width=\"85%\" bgcolor=\"#f6f6ef\">\n",
      "        <tr><td bgcolor=\"#ff6600\"><table border=\"0\" cellpadding=\"0\" cellspacing=\"0\" width=\"100%\" style=\"padding:2px\"><tr><td style=\"width:18px;padding-right:4px\"><a href=\"https://news.ycombinator.com\"><img src=\"y18.gif\" width=\"18\" height=\"18\" style=\"border:1px white solid;\"></a></td>\n",
      "                  <td style=\"line-height:12pt; height:10px;\"><span class=\"pagetop\"><b class=\"hnname\"><a href=\"news\">Hacker News</a></b>\n",
      "              <a href=\"newest\">new</a> | <a href=\"front\">past</a> | <a href=\"newcomments\">comments</a> | <a href=\"ask\">ask</a> | <a href=\"show\">show</a> | <a href=\"jobs\">jobs</a> | <a href=\"submit\">submit</a>            </span></td><td style=\"text-align:right;padding-right:4px;\"><span class=\"pagetop\">\n",
      "                              <a href=\"login?goto=news\">login</a>\n",
      "                          </span></td>\n",
      "              </tr></table></td></tr>\n",
      "<tr id=\"pagespace\" title=\"\" style=\"height:10px\"></tr><tr><td><table border=\"0\" cellpadding=\"0\" cellspacing=\"0\" class=\"itemlist\">\n",
      "              <tr class='athing' id='22283386'>\n",
      "      <td align=\"right\" valign=\"top\" class=\"title\"><span class=\"rank\">1.</span></td>      <td valign=\"top\" class=\"votelinks\"><center><a id='up_22283386' href='vote?id=22283386&amp;how=up&amp;goto=news'><div class='votearrow' title='upvote'></div></a></center></td><td class=\"title\"><a href=\"https://hacks.mozilla.org/2020/01/how-we-built-picture-in-picture-in-firefox-desktop/\" class=\"storylink\">Building Firefox's Picture-in-Picture Support</a><span class=\"sitebit comhead\"> (<a href=\"from?site=hacks.mozilla.org\"><span class=\"sitestr\">hacks.mozilla.org</span></a>)</span></td></tr><tr><td colspan=\"2\"></td><td class=\"subtext\">\n",
      "        <span class=\"score\" id=\"score_22283386\">55 points</span> by <a href=\"user?id=primogen\" class=\"hnuser\">primogen</a> <span class=\"age\"><a href=\"item?id=22283386\">1 hour ago</a></span> <span id=\"unv_22283386\"></span> | <a href=\"hide?id=22283386&amp;goto=news\">hide</a> | <a href=\"item?id=22283386\">27&nbsp;comments</a>              </td></tr>\n",
      "      <tr class=\"spacer\" style=\"height:5px\"></tr>\n",
      "                <tr class='athing' id='22283673'>\n",
      "      <td align=\"right\" valign=\"top\" class=\"title\"><span class=\"rank\">2.</span></td>      <td valign=\"top\" class=\"votelinks\"><center><a id='up_22283673' href='vote?id=22283673&amp;how=up&amp;goto=news'><div class='votearrow' title='upvote'></div></a></center></td><td class=\"title\"><a href=\"https://lg.io/2015/07/05/revised-and-much-faster-run-your-own-highend-cloud-gaming-service-on-ec2.html\" class=\"storylink\">Run your own high-end cloud gaming service on EC2 (2015)</a><span class=\"sitebit comhead\"> (<a href=\"from?site=lg.io\"><span class=\"sitestr\">lg.io</span></a>)</span></td></tr><tr><td colspan=\"2\"></td><td class=\"subtext\">\n",
      "        <span class=\"score\" id=\"score_22283673\">16 points</span> by <a href=\"user?id=tosh\" class=\"hnuser\">tosh</a> <span class=\"age\"><a href=\"item?id=22283673\">28 minutes ago</a></span> <span id=\"unv_22283673\"></span> | <a href=\"hide?id=22283673&amp;goto=news\">hide</a> | <a href=\"item?id=22283673\">2&nbsp;comments</a>              </td></tr>\n",
      "      <tr class=\"spacer\" style=\"height:5px\"></tr>\n",
      "                <tr class='athing' id='22281338'>\n",
      "      <td align=\"right\" valign=\"top\" class=\"title\"><span class=\"rank\">3.</span></td>      <td valign=\"top\" class=\"votelinks\"><center><a id='up_22281338' href='vote?id=22281338&amp;how=up&amp;goto=news'><div class='votearrow' title='upvote'></div></a></center></td><td class=\"title\"><a href=\"https://www.etymonline.com/columns/post/bio\" class=\"storylink\">Who Did This?</a><span class=\"sitebit comhead\"> (<a href=\"from?site=etymonline.com\"><span class=\"sitestr\">etymonline.com</span></a>)</span></td></tr><tr><td colspan=\"2\"></td><td class=\"subtext\">\n",
      "        <span class=\"score\" id=\"score_22281338\">73 points</span> by <a href=\"user?id=dredmorbius\" class=\"hnuser\">dredmorbius</a> <span class=\"age\"><a href=\"item?id=22281338\">3 hours ago</a></span> <span id=\"unv_22281338\"></span> | <a href=\"hide?id=22281338&amp;goto=news\">hide</a> | <a href=\"item?id=22281338\">8&nbsp;comments</a>              </td></tr>\n",
      "      <tr class=\"spacer\" style=\"height:5px\"></tr>\n",
      "                <tr class='athing' id='22282150'>\n",
      "      <td align=\"right\" valign=\"top\" class=\"title\"><span class=\"rank\">4.</span></td>      <td valign=\"top\" class=\"votelinks\"><center><a id='up_22282150' href='vote?id=22282150&amp;how=up&amp;goto=news'><div class='votearrow' title='upvote'></div></a></center></td><td class=\"title\"><a href=\"https://techcrunch.com/2020/02/09/the-war-against-space-hackers-how-the-jpl-works-to-secure-its-missions-from-nation-state-adversaries/\" class=\"storylink\">How the JPL works to secure its missions from adversaries</a><span class=\"sitebit comhead\"> (<a href=\"from?site=techcrunch.com\"><span class=\"sitestr\">techcrunch.com</span></a>)</span></td></tr><tr><td colspan=\"2\"></td><td class=\"subtext\">\n",
      "        <span class=\"score\" id=\"score_22282150\">91 points</span> by <a href=\"user?id=ajaviaad\" class=\"hnuser\">ajaviaad</a> <span class=\"age\"><a href=\"item?id=22282150\">5 hours ago</a></span> <span id=\"unv_22282150\"></span> | <a href=\"hide?id=22282150&amp;goto=news\">hide</a> | <a href=\"item?id=22282150\">24&nbsp;comments</a>              </td></tr>\n",
      "      <tr class=\"spacer\" style=\"height:5px\"></tr>\n",
      "                <tr class='athing' id='22282583'>\n",
      "      <td align=\"right\" valign=\"top\" class=\"title\"><span class=\"rank\">5.</span></td>      <td valign=\"top\" class=\"votelinks\"><center><a id='up_22282583' href='vote?id=22282583&amp;how=up&amp;goto=news'><div class='votearrow' title='upvote'></div></a></center></td><td class=\"title\"><a href=\"https://github.com/brettkromkamp/contextualise\" class=\"storylink\">Contextualise: Manage your knowledge</a><span class=\"sitebit comhead\"> (<a href=\"from?site=github.com\"><span class=\"sitestr\">github.com</span></a>)</span></td></tr><tr><td colspan=\"2\"></td><td class=\"subtext\">\n",
      "        <span class=\"score\" id=\"score_22282583\">45 points</span> by <a href=\"user?id=brettkromkamp\" class=\"hnuser\">brettkromkamp</a> <span class=\"age\"><a href=\"item?id=22282583\">3 hours ago</a></span> <span id=\"unv_22282583\"></span> | <a href=\"hide?id=22282583&amp;goto=news\">hide</a> | <a href=\"item?id=22282583\">11&nbsp;comments</a>              </td></tr>\n",
      "      <tr class=\"spacer\" style=\"height:5px\"></tr>\n",
      "                <tr class='athing' id='22280753'>\n",
      "      <td align=\"right\" valign=\"top\" class=\"title\"><span class=\"rank\">6.</span></td>      <td valign=\"top\" class=\"votelinks\"><center><a id='up_22280753' href='vote?id=22280753&amp;how=up&amp;goto=news'><div class='votearrow' title='upvote'></div></a></center></td><td class=\"title\"><a href=\"https://tim.blog/2020/02/02/reasons-to-not-become-famous/\" class=\"storylink\">Reasons not to become famous</a><span class=\"sitebit comhead\"> (<a href=\"from?site=tim.blog\"><span class=\"sitestr\">tim.blog</span></a>)</span></td></tr><tr><td colspan=\"2\"></td><td class=\"subtext\">\n",
      "        <span class=\"score\" id=\"score_22280753\">514 points</span> by <a href=\"user?id=imgabe\" class=\"hnuser\">imgabe</a> <span class=\"age\"><a href=\"item?id=22280753\">12 hours ago</a></span> <span id=\"unv_22280753\"></span> | <a href=\"hide?id=22280753&amp;goto=news\">hide</a> | <a href=\"item?id=22280753\">254&nbsp;comments</a>              </td></tr>\n",
      "      <tr class=\"spacer\" style=\"height:5px\"></tr>\n",
      "                <tr class='athing' id='22282452'>\n",
      "      <td align=\"right\" valign=\"top\" class=\"title\"><span class=\"rank\">7.</span></td>      <td valign=\"top\" class=\"votelinks\"><center><a id='up_22282452' href='vote?id=22282452&amp;how=up&amp;goto=news'><div class='votearrow' title='upvote'></div></a></center></td><td class=\"title\"><a href=\"https://www.youtube.com/watch?v=tX4H_ctggYo\" class=\"storylink\">Siggraph2019 Geometric Algebra (2019) [video]</a><span class=\"sitebit comhead\"> (<a href=\"from?site=youtube.com\"><span class=\"sitestr\">youtube.com</span></a>)</span></td></tr><tr><td colspan=\"2\"></td><td class=\"subtext\">\n",
      "        <span class=\"score\" id=\"score_22282452\">50 points</span> by <a href=\"user?id=lelf\" class=\"hnuser\">lelf</a> <span class=\"age\"><a href=\"item?id=22282452\">4 hours ago</a></span> <span id=\"unv_22282452\"></span> | <a href=\"hide?id=22282452&amp;goto=news\">hide</a> | <a href=\"item?id=22282452\">4&nbsp;comments</a>              </td></tr>\n",
      "      <tr class=\"spacer\" style=\"height:5px\"></tr>\n",
      "                <tr class='athing' id='22271214'>\n",
      "      <td align=\"right\" valign=\"top\" class=\"title\"><span class=\"rank\">8.</span></td>      <td valign=\"top\" class=\"votelinks\"><center><a id='up_22271214' href='vote?id=22271214&amp;how=up&amp;goto=news'><div class='votearrow' title='upvote'></div></a></center></td><td class=\"title\"><a href=\"https://www.bbc.com/worklife/article/20200130-the-life-hack-to-reduce-admin-and-carve-out-downtime\" class=\"storylink\">How to reduce 'attention residue'</a><span class=\"sitebit comhead\"> (<a href=\"from?site=bbc.com\"><span class=\"sitestr\">bbc.com</span></a>)</span></td></tr><tr><td colspan=\"2\"></td><td class=\"subtext\">\n",
      "        <span class=\"score\" id=\"score_22271214\">43 points</span> by <a href=\"user?id=prostoalex\" class=\"hnuser\">prostoalex</a> <span class=\"age\"><a href=\"item?id=22271214\">4 hours ago</a></span> <span id=\"unv_22271214\"></span> | <a href=\"hide?id=22271214&amp;goto=news\">hide</a> | <a href=\"item?id=22271214\">10&nbsp;comments</a>              </td></tr>\n",
      "      <tr class=\"spacer\" style=\"height:5px\"></tr>\n",
      "                <tr class='athing' id='22282018'>\n",
      "      <td align=\"right\" valign=\"top\" class=\"title\"><span class=\"rank\">9.</span></td>      <td valign=\"top\" class=\"votelinks\"><center><a id='up_22282018' href='vote?id=22282018&amp;how=up&amp;goto=news'><div class='votearrow' title='upvote'></div></a></center></td><td class=\"title\"><a href=\"https://deepmind.com/blog/article/Dopamine-and-temporal-difference-learning-A-fruitful-relationship-between-neuroscience-and-AI\" class=\"storylink\">Dopamine and Temporal Difference Learning</a><span class=\"sitebit comhead\"> (<a href=\"from?site=deepmind.com\"><span class=\"sitestr\">deepmind.com</span></a>)</span></td></tr><tr><td colspan=\"2\"></td><td class=\"subtext\">\n",
      "        <span class=\"score\" id=\"score_22282018\">8 points</span> by <a href=\"user?id=magoghm\" class=\"hnuser\">magoghm</a> <span class=\"age\"><a href=\"item?id=22282018\">1 hour ago</a></span> <span id=\"unv_22282018\"></span> | <a href=\"hide?id=22282018&amp;goto=news\">hide</a> | <a href=\"item?id=22282018\">discuss</a>              </td></tr>\n",
      "      <tr class=\"spacer\" style=\"height:5px\"></tr>\n",
      "                <tr class='athing' id='22277417'>\n",
      "      <td align=\"right\" valign=\"top\" class=\"title\"><span class=\"rank\">10.</span></td>      <td valign=\"top\" class=\"votelinks\"><center><a id='up_22277417' href='vote?id=22277417&amp;how=up&amp;goto=news'><div class='votearrow' title='upvote'></div></a></center></td><td class=\"title\"><a href=\"http://www.cottoncandy.net/\" class=\"storylink\">Cotton Candy</a><span class=\"sitebit comhead\"> (<a href=\"from?site=cottoncandy.net\"><span class=\"sitestr\">cottoncandy.net</span></a>)</span></td></tr><tr><td colspan=\"2\"></td><td class=\"subtext\">\n",
      "        <span class=\"score\" id=\"score_22277417\">31 points</span> by <a href=\"user?id=lelf\" class=\"hnuser\">lelf</a> <span class=\"age\"><a href=\"item?id=22277417\">3 hours ago</a></span> <span id=\"unv_22277417\"></span> | <a href=\"hide?id=22277417&amp;goto=news\">hide</a> | <a href=\"item?id=22277417\">7&nbsp;comments</a>              </td></tr>\n",
      "      <tr class=\"spacer\" style=\"height:5px\"></tr>\n",
      "                <tr class='athing' id='22282756'>\n",
      "      <td align=\"right\" valign=\"top\" class=\"title\"><span class=\"rank\">11.</span></td>      <td valign=\"top\" class=\"votelinks\"><center><a id='up_22282756' href='vote?id=22282756&amp;how=up&amp;goto=news'><div class='votearrow' title='upvote'></div></a></center></td><td class=\"title\"><a href=\"https://spectrum.ieee.org/computing/hardware/a-half-century-ago-better-transistors-and-switching-regulators-revolutionized-the-design-of-computer-power-supplies\" class=\"storylink\">A half century ago, better transistors revolutionized computer power supplies</a><span class=\"sitebit comhead\"> (<a href=\"from?site=ieee.org\"><span class=\"sitestr\">ieee.org</span></a>)</span></td></tr><tr><td colspan=\"2\"></td><td class=\"subtext\">\n",
      "        <span class=\"score\" id=\"score_22282756\">30 points</span> by <a href=\"user?id=kens\" class=\"hnuser\">kens</a> <span class=\"age\"><a href=\"item?id=22282756\">3 hours ago</a></span> <span id=\"unv_22282756\"></span> | <a href=\"hide?id=22282756&amp;goto=news\">hide</a> | <a href=\"item?id=22282756\">6&nbsp;comments</a>              </td></tr>\n",
      "      <tr class=\"spacer\" style=\"height:5px\"></tr>\n",
      "                <tr class='athing' id='22281619'>\n",
      "      <td align=\"right\" valign=\"top\" class=\"title\"><span class=\"rank\">12.</span></td>      <td valign=\"top\" class=\"votelinks\"><center><a id='up_22281619' href='vote?id=22281619&amp;how=up&amp;goto=news'><div class='votearrow' title='upvote'></div></a></center></td><td class=\"title\"><a href=\"https://fosdem.org/2020/schedule/event/llvm_flang/\" class=\"storylink\">Flang: The Fortran frontend of LLVM [video]</a><span class=\"sitebit comhead\"> (<a href=\"from?site=fosdem.org\"><span class=\"sitestr\">fosdem.org</span></a>)</span></td></tr><tr><td colspan=\"2\"></td><td class=\"subtext\">\n",
      "        <span class=\"score\" id=\"score_22281619\">110 points</span> by <a href=\"user?id=pjmlp\" class=\"hnuser\">pjmlp</a> <span class=\"age\"><a href=\"item?id=22281619\">7 hours ago</a></span> <span id=\"unv_22281619\"></span> | <a href=\"hide?id=22281619&amp;goto=news\">hide</a> | <a href=\"item?id=22281619\">70&nbsp;comments</a>              </td></tr>\n",
      "      <tr class=\"spacer\" style=\"height:5px\"></tr>\n",
      "                <tr class='athing' id='22282562'>\n",
      "      <td align=\"right\" valign=\"top\" class=\"title\"><span class=\"rank\">13.</span></td>      <td valign=\"top\" class=\"votelinks\"><center><a id='up_22282562' href='vote?id=22282562&amp;how=up&amp;goto=news'><div class='votearrow' title='upvote'></div></a></center></td><td class=\"title\"><a href=\"https://www.youtube.com/watch?v=99bqotoBKu4\" class=\"storylink\">Wrestling Python into LLVM Intermediate Representation (2019) [video]</a><span class=\"sitebit comhead\"> (<a href=\"from?site=youtube.com\"><span class=\"sitestr\">youtube.com</span></a>)</span></td></tr><tr><td colspan=\"2\"></td><td class=\"subtext\">\n",
      "        <span class=\"score\" id=\"score_22282562\">28 points</span> by <a href=\"user?id=tomrod\" class=\"hnuser\">tomrod</a> <span class=\"age\"><a href=\"item?id=22282562\">3 hours ago</a></span> <span id=\"unv_22282562\"></span> | <a href=\"hide?id=22282562&amp;goto=news\">hide</a> | <a href=\"item?id=22282562\">5&nbsp;comments</a>              </td></tr>\n",
      "      <tr class=\"spacer\" style=\"height:5px\"></tr>\n",
      "                <tr class='athing' id='22282169'>\n",
      "      <td align=\"right\" valign=\"top\" class=\"title\"><span class=\"rank\">14.</span></td>      <td valign=\"top\" class=\"votelinks\"><center><a id='up_22282169' href='vote?id=22282169&amp;how=up&amp;goto=news'><div class='votearrow' title='upvote'></div></a></center></td><td class=\"title\"><a href=\"https://unsharpen.com/rollerball-pen-fountain-pen-ink/\" class=\"storylink\">Rollerball pens that use fountain pen ink</a><span class=\"sitebit comhead\"> (<a href=\"from?site=unsharpen.com\"><span class=\"sitestr\">unsharpen.com</span></a>)</span></td></tr><tr><td colspan=\"2\"></td><td class=\"subtext\">\n",
      "        <span class=\"score\" id=\"score_22282169\">53 points</span> by <a href=\"user?id=toymachine\" class=\"hnuser\">toymachine</a> <span class=\"age\"><a href=\"item?id=22282169\">5 hours ago</a></span> <span id=\"unv_22282169\"></span> | <a href=\"hide?id=22282169&amp;goto=news\">hide</a> | <a href=\"item?id=22282169\">32&nbsp;comments</a>              </td></tr>\n",
      "      <tr class=\"spacer\" style=\"height:5px\"></tr>\n",
      "                <tr class='athing' id='22281205'>\n",
      "      <td align=\"right\" valign=\"top\" class=\"title\"><span class=\"rank\">15.</span></td>      <td valign=\"top\" class=\"votelinks\"><center><a id='up_22281205' href='vote?id=22281205&amp;how=up&amp;goto=news'><div class='votearrow' title='upvote'></div></a></center></td><td class=\"title\"><a href=\"https://plv.mpi-sws.org/rustbelt/stacked-borrows/\" class=\"storylink\">Stacked Borrows: An Aliasing Model for Rust</a><span class=\"sitebit comhead\"> (<a href=\"from?site=mpi-sws.org\"><span class=\"sitestr\">mpi-sws.org</span></a>)</span></td></tr><tr><td colspan=\"2\"></td><td class=\"subtext\">\n",
      "        <span class=\"score\" id=\"score_22281205\">141 points</span> by <a href=\"user?id=pjmlp\" class=\"hnuser\">pjmlp</a> <span class=\"age\"><a href=\"item?id=22281205\">10 hours ago</a></span> <span id=\"unv_22281205\"></span> | <a href=\"hide?id=22281205&amp;goto=news\">hide</a> | <a href=\"item?id=22281205\">23&nbsp;comments</a>              </td></tr>\n",
      "      <tr class=\"spacer\" style=\"height:5px\"></tr>\n",
      "                <tr class='athing' id='22281486'>\n",
      "      <td align=\"right\" valign=\"top\" class=\"title\"><span class=\"rank\">16.</span></td>      <td valign=\"top\" class=\"votelinks\"><center><a id='up_22281486' href='vote?id=22281486&amp;how=up&amp;goto=news'><div class='votearrow' title='upvote'></div></a></center></td><td class=\"title\"><a href=\"https://github.com/domlysz/BlenderGIS\" class=\"storylink\">Blender GIS</a><span class=\"sitebit comhead\"> (<a href=\"from?site=github.com\"><span class=\"sitestr\">github.com</span></a>)</span></td></tr><tr><td colspan=\"2\"></td><td class=\"subtext\">\n",
      "        <span class=\"score\" id=\"score_22281486\">121 points</span> by <a href=\"user?id=ryannevius\" class=\"hnuser\">ryannevius</a> <span class=\"age\"><a href=\"item?id=22281486\">8 hours ago</a></span> <span id=\"unv_22281486\"></span> | <a href=\"hide?id=22281486&amp;goto=news\">hide</a> | <a href=\"item?id=22281486\">17&nbsp;comments</a>              </td></tr>\n",
      "      <tr class=\"spacer\" style=\"height:5px\"></tr>\n",
      "                <tr class='athing' id='22282176'>\n",
      "      <td align=\"right\" valign=\"top\" class=\"title\"><span class=\"rank\">17.</span></td>      <td valign=\"top\" class=\"votelinks\"><center><a id='up_22282176' href='vote?id=22282176&amp;how=up&amp;goto=news'><div class='votearrow' title='upvote'></div></a></center></td><td class=\"title\"><a href=\"https://eklitzke.org/unexpected-places-you-can-and-cant-use-null-bytes\" class=\"storylink\">Unexpected places you can and can’t use null bytes</a><span class=\"sitebit comhead\"> (<a href=\"from?site=eklitzke.org\"><span class=\"sitestr\">eklitzke.org</span></a>)</span></td></tr><tr><td colspan=\"2\"></td><td class=\"subtext\">\n",
      "        <span class=\"score\" id=\"score_22282176\">33 points</span> by <a href=\"user?id=ammmir\" class=\"hnuser\">ammmir</a> <span class=\"age\"><a href=\"item?id=22282176\">5 hours ago</a></span> <span id=\"unv_22282176\"></span> | <a href=\"hide?id=22282176&amp;goto=news\">hide</a> | <a href=\"item?id=22282176\">30&nbsp;comments</a>              </td></tr>\n",
      "      <tr class=\"spacer\" style=\"height:5px\"></tr>\n",
      "                <tr class='athing' id='22282458'>\n",
      "      <td align=\"right\" valign=\"top\" class=\"title\"><span class=\"rank\">18.</span></td>      <td valign=\"top\" class=\"votelinks\"><center><a id='up_22282458' href='vote?id=22282458&amp;how=up&amp;goto=news'><div class='votearrow' title='upvote'></div></a></center></td><td class=\"title\"><a href=\"https://jameshfisher.com/2020/02/09/diffing-coronaviruses/\" class=\"storylink\">Diffing Coronaviruses</a><span class=\"sitebit comhead\"> (<a href=\"from?site=jameshfisher.com\"><span class=\"sitestr\">jameshfisher.com</span></a>)</span></td></tr><tr><td colspan=\"2\"></td><td class=\"subtext\">\n",
      "        <span class=\"score\" id=\"score_22282458\">74 points</span> by <a href=\"user?id=jamesfisher\" class=\"hnuser\">jamesfisher</a> <span class=\"age\"><a href=\"item?id=22282458\">4 hours ago</a></span> <span id=\"unv_22282458\"></span> | <a href=\"hide?id=22282458&amp;goto=news\">hide</a> | <a href=\"item?id=22282458\">12&nbsp;comments</a>              </td></tr>\n",
      "      <tr class=\"spacer\" style=\"height:5px\"></tr>\n",
      "                <tr class='athing' id='22282333'>\n",
      "      <td align=\"right\" valign=\"top\" class=\"title\"><span class=\"rank\">19.</span></td>      <td valign=\"top\" class=\"votelinks\"><center><a id='up_22282333' href='vote?id=22282333&amp;how=up&amp;goto=news'><div class='votearrow' title='upvote'></div></a></center></td><td class=\"title\"><a href=\"https://uxmovement.com/forms/infield-top-aligned-labels-floating-labels/\" class=\"storylink\">Infield top-aligned labels beat floating labels on forms</a><span class=\"sitebit comhead\"> (<a href=\"from?site=uxmovement.com\"><span class=\"sitestr\">uxmovement.com</span></a>)</span></td></tr><tr><td colspan=\"2\"></td><td class=\"subtext\">\n",
      "        <span class=\"score\" id=\"score_22282333\">28 points</span> by <a href=\"user?id=dojosensei\" class=\"hnuser\">dojosensei</a> <span class=\"age\"><a href=\"item?id=22282333\">4 hours ago</a></span> <span id=\"unv_22282333\"></span> | <a href=\"hide?id=22282333&amp;goto=news\">hide</a> | <a href=\"item?id=22282333\">5&nbsp;comments</a>              </td></tr>\n",
      "      <tr class=\"spacer\" style=\"height:5px\"></tr>\n",
      "                <tr class='athing' id='22281615'>\n",
      "      <td align=\"right\" valign=\"top\" class=\"title\"><span class=\"rank\">20.</span></td>      <td valign=\"top\" class=\"votelinks\"><center><a id='up_22281615' href='vote?id=22281615&amp;how=up&amp;goto=news'><div class='votearrow' title='upvote'></div></a></center></td><td class=\"title\"><a href=\"https://en.wikipedia.org/wiki/Eiffel_(programming_language)\" class=\"storylink\">Eiffel programming language</a><span class=\"sitebit comhead\"> (<a href=\"from?site=wikipedia.org\"><span class=\"sitestr\">wikipedia.org</span></a>)</span></td></tr><tr><td colspan=\"2\"></td><td class=\"subtext\">\n",
      "        <span class=\"score\" id=\"score_22281615\">64 points</span> by <a href=\"user?id=modinfo\" class=\"hnuser\">modinfo</a> <span class=\"age\"><a href=\"item?id=22281615\">7 hours ago</a></span> <span id=\"unv_22281615\"></span> | <a href=\"hide?id=22281615&amp;goto=news\">hide</a> | <a href=\"item?id=22281615\">41&nbsp;comments</a>              </td></tr>\n",
      "      <tr class=\"spacer\" style=\"height:5px\"></tr>\n",
      "                <tr class='athing' id='22283387'>\n",
      "      <td align=\"right\" valign=\"top\" class=\"title\"><span class=\"rank\">21.</span></td>      <td valign=\"top\" class=\"votelinks\"><center><a id='up_22283387' href='vote?id=22283387&amp;how=up&amp;goto=news'><div class='votearrow' title='upvote'></div></a></center></td><td class=\"title\"><a href=\"https://www.cs.tufts.edu/~nr/cs257/archive/john-carlis/one-draft.pdf\" class=\"storylink\" rel=\"nofollow\">Design: The Key to Writing (and Advising) a One-Draft Thesis (2002) [pdf]</a><span class=\"sitebit comhead\"> (<a href=\"from?site=tufts.edu\"><span class=\"sitestr\">tufts.edu</span></a>)</span></td></tr><tr><td colspan=\"2\"></td><td class=\"subtext\">\n",
      "        <span class=\"score\" id=\"score_22283387\">5 points</span> by <a href=\"user?id=Tomte\" class=\"hnuser\">Tomte</a> <span class=\"age\"><a href=\"item?id=22283387\">1 hour ago</a></span> <span id=\"unv_22283387\"></span> | <a href=\"hide?id=22283387&amp;goto=news\">hide</a> | <a href=\"item?id=22283387\">discuss</a>              </td></tr>\n",
      "      <tr class=\"spacer\" style=\"height:5px\"></tr>\n",
      "                <tr class='athing' id='22280879'>\n",
      "      <td align=\"right\" valign=\"top\" class=\"title\"><span class=\"rank\">22.</span></td>      <td valign=\"top\" class=\"votelinks\"><center><a id='up_22280879' href='vote?id=22280879&amp;how=up&amp;goto=news'><div class='votearrow' title='upvote'></div></a></center></td><td class=\"title\"><a href=\"https://fastcompression.blogspot.com/2018/02/when-to-use-dictionary-compression.html\" class=\"storylink\">When to use dictionary compression (2018)</a><span class=\"sitebit comhead\"> (<a href=\"from?site=fastcompression.blogspot.com\"><span class=\"sitestr\">fastcompression.blogspot.com</span></a>)</span></td></tr><tr><td colspan=\"2\"></td><td class=\"subtext\">\n",
      "        <span class=\"score\" id=\"score_22280879\">11 points</span> by <a href=\"user?id=luu\" class=\"hnuser\">luu</a> <span class=\"age\"><a href=\"item?id=22280879\">3 hours ago</a></span> <span id=\"unv_22280879\"></span> | <a href=\"hide?id=22280879&amp;goto=news\">hide</a> | <a href=\"item?id=22280879\">1&nbsp;comment</a>              </td></tr>\n",
      "      <tr class=\"spacer\" style=\"height:5px\"></tr>\n",
      "                <tr class='athing' id='22281248'>\n",
      "      <td align=\"right\" valign=\"top\" class=\"title\"><span class=\"rank\">23.</span></td>      <td valign=\"top\" class=\"votelinks\"><center><a id='up_22281248' href='vote?id=22281248&amp;how=up&amp;goto=news'><div class='votearrow' title='upvote'></div></a></center></td><td class=\"title\"><a href=\"https://wjholden.com/clusters\" class=\"storylink\">Editing distance clusters: a greedy string classification algorithm</a><span class=\"sitebit comhead\"> (<a href=\"from?site=wjholden.com\"><span class=\"sitestr\">wjholden.com</span></a>)</span></td></tr><tr><td colspan=\"2\"></td><td class=\"subtext\">\n",
      "        <span class=\"score\" id=\"score_22281248\">19 points</span> by <a href=\"user?id=wjholden\" class=\"hnuser\">wjholden</a> <span class=\"age\"><a href=\"item?id=22281248\">3 hours ago</a></span> <span id=\"unv_22281248\"></span> | <a href=\"hide?id=22281248&amp;goto=news\">hide</a> | <a href=\"item?id=22281248\">1&nbsp;comment</a>              </td></tr>\n",
      "      <tr class=\"spacer\" style=\"height:5px\"></tr>\n",
      "                <tr class='athing' id='22271087'>\n",
      "      <td align=\"right\" valign=\"top\" class=\"title\"><span class=\"rank\">24.</span></td>      <td valign=\"top\" class=\"votelinks\"><center><a id='up_22271087' href='vote?id=22271087&amp;how=up&amp;goto=news'><div class='votearrow' title='upvote'></div></a></center></td><td class=\"title\"><a href=\"https://techcrunch.com/2020/02/06/hopskipdrive-raises-22-million-to-focus-on-school-transportation-70-percent-of-revenue-is-enterprise/\" class=\"storylink\" rel=\"nofollow\">HopSkipDrive raises $22M to focus on school transportation</a><span class=\"sitebit comhead\"> (<a href=\"from?site=techcrunch.com\"><span class=\"sitestr\">techcrunch.com</span></a>)</span></td></tr><tr><td colspan=\"2\"></td><td class=\"subtext\">\n",
      "        <span class=\"score\" id=\"score_22271087\">7 points</span> by <a href=\"user?id=prostoalex\" class=\"hnuser\">prostoalex</a> <span class=\"age\"><a href=\"item?id=22271087\">1 hour ago</a></span> <span id=\"unv_22271087\"></span> | <a href=\"hide?id=22271087&amp;goto=news\">hide</a> | <a href=\"item?id=22271087\">1&nbsp;comment</a>              </td></tr>\n",
      "      <tr class=\"spacer\" style=\"height:5px\"></tr>\n",
      "                <tr class='athing' id='22281832'>\n",
      "      <td align=\"right\" valign=\"top\" class=\"title\"><span class=\"rank\">25.</span></td>      <td valign=\"top\" class=\"votelinks\"><center><a id='up_22281832' href='vote?id=22281832&amp;how=up&amp;goto=news'><div class='votearrow' title='upvote'></div></a></center></td><td class=\"title\"><a href=\"https://www.phoronix.com/scan.php?page=news_item&amp;px=Linux-Pipe-Parallel-Job-Opt\" class=\"storylink\">An optimization to help code compilation times on big CPUs</a><span class=\"sitebit comhead\"> (<a href=\"from?site=phoronix.com\"><span class=\"sitestr\">phoronix.com</span></a>)</span></td></tr><tr><td colspan=\"2\"></td><td class=\"subtext\">\n",
      "        <span class=\"score\" id=\"score_22281832\">118 points</span> by <a href=\"user?id=eaguyhn\" class=\"hnuser\">eaguyhn</a> <span class=\"age\"><a href=\"item?id=22281832\">6 hours ago</a></span> <span id=\"unv_22281832\"></span> | <a href=\"hide?id=22281832&amp;goto=news\">hide</a> | <a href=\"item?id=22281832\">30&nbsp;comments</a>              </td></tr>\n",
      "      <tr class=\"spacer\" style=\"height:5px\"></tr>\n",
      "                <tr class='athing' id='22282049'>\n",
      "      <td align=\"right\" valign=\"top\" class=\"title\"><span class=\"rank\">26.</span></td>      <td valign=\"top\" class=\"votelinks\"><center><a id='up_22282049' href='vote?id=22282049&amp;how=up&amp;goto=news'><div class='votearrow' title='upvote'></div></a></center></td><td class=\"title\"><a href=\"https://retrocomputing.stackexchange.com/questions/13611/how-much-better-was-dec-alpha-than-contemporary-x86\" class=\"storylink\">How much better was DEC Alpha than contemporary x86?</a><span class=\"sitebit comhead\"> (<a href=\"from?site=stackexchange.com\"><span class=\"sitestr\">stackexchange.com</span></a>)</span></td></tr><tr><td colspan=\"2\"></td><td class=\"subtext\">\n",
      "        <span class=\"score\" id=\"score_22282049\">74 points</span> by <a href=\"user?id=turrini\" class=\"hnuser\">turrini</a> <span class=\"age\"><a href=\"item?id=22282049\">5 hours ago</a></span> <span id=\"unv_22282049\"></span> | <a href=\"hide?id=22282049&amp;goto=news\">hide</a> | <a href=\"item?id=22282049\">81&nbsp;comments</a>              </td></tr>\n",
      "      <tr class=\"spacer\" style=\"height:5px\"></tr>\n",
      "                <tr class='athing' id='22281915'>\n",
      "      <td align=\"right\" valign=\"top\" class=\"title\"><span class=\"rank\">27.</span></td>      <td valign=\"top\" class=\"votelinks\"><center><a id='up_22281915' href='vote?id=22281915&amp;how=up&amp;goto=news'><div class='votearrow' title='upvote'></div></a></center></td><td class=\"title\"><a href=\"https://antoinevastel.com/javascript/2020/02/09/detecting-web-bots.html\" class=\"storylink\">How to detect web bots?</a><span class=\"sitebit comhead\"> (<a href=\"from?site=antoinevastel.com\"><span class=\"sitestr\">antoinevastel.com</span></a>)</span></td></tr><tr><td colspan=\"2\"></td><td class=\"subtext\">\n",
      "        <span class=\"score\" id=\"score_22281915\">26 points</span> by <a href=\"user?id=avastel\" class=\"hnuser\">avastel</a> <span class=\"age\"><a href=\"item?id=22281915\">6 hours ago</a></span> <span id=\"unv_22281915\"></span> | <a href=\"hide?id=22281915&amp;goto=news\">hide</a> | <a href=\"item?id=22281915\">12&nbsp;comments</a>              </td></tr>\n",
      "      <tr class=\"spacer\" style=\"height:5px\"></tr>\n",
      "                <tr class='athing' id='22275310'>\n",
      "      <td align=\"right\" valign=\"top\" class=\"title\"><span class=\"rank\">28.</span></td>      <td valign=\"top\" class=\"votelinks\"><center><a id='up_22275310' href='vote?id=22275310&amp;how=up&amp;goto=news'><div class='votearrow' title='upvote'></div></a></center></td><td class=\"title\"><a href=\"https://www.smithsonianmag.com/history/untold-story-charles-dickens-death-and-burial-180974126/\" class=\"storylink\">The scheme to bury Charles Dickens in Westminster Abbey, against his wishes</a><span class=\"sitebit comhead\"> (<a href=\"from?site=smithsonianmag.com\"><span class=\"sitestr\">smithsonianmag.com</span></a>)</span></td></tr><tr><td colspan=\"2\"></td><td class=\"subtext\">\n",
      "        <span class=\"score\" id=\"score_22275310\">21 points</span> by <a href=\"user?id=pseudolus\" class=\"hnuser\">pseudolus</a> <span class=\"age\"><a href=\"item?id=22275310\">6 hours ago</a></span> <span id=\"unv_22275310\"></span> | <a href=\"hide?id=22275310&amp;goto=news\">hide</a> | <a href=\"item?id=22275310\">1&nbsp;comment</a>              </td></tr>\n",
      "      <tr class=\"spacer\" style=\"height:5px\"></tr>\n",
      "                <tr class='athing' id='22280433'>\n",
      "      <td align=\"right\" valign=\"top\" class=\"title\"><span class=\"rank\">29.</span></td>      <td valign=\"top\" class=\"votelinks\"><center><a id='up_22280433' href='vote?id=22280433&amp;how=up&amp;goto=news'><div class='votearrow' title='upvote'></div></a></center></td><td class=\"title\"><a href=\"https://www.cbc.ca/news/business/google-canada-expansion-analysis-1.5455122\" class=\"storylink\">Google's expansion plans show why Canada's tech boom is here to stay</a><span class=\"sitebit comhead\"> (<a href=\"from?site=cbc.ca\"><span class=\"sitestr\">cbc.ca</span></a>)</span></td></tr><tr><td colspan=\"2\"></td><td class=\"subtext\">\n",
      "        <span class=\"score\" id=\"score_22280433\">160 points</span> by <a href=\"user?id=rubayeet\" class=\"hnuser\">rubayeet</a> <span class=\"age\"><a href=\"item?id=22280433\">14 hours ago</a></span> <span id=\"unv_22280433\"></span> | <a href=\"hide?id=22280433&amp;goto=news\">hide</a> | <a href=\"item?id=22280433\">187&nbsp;comments</a>              </td></tr>\n",
      "      <tr class=\"spacer\" style=\"height:5px\"></tr>\n",
      "                <tr class='athing' id='22278231'>\n",
      "      <td align=\"right\" valign=\"top\" class=\"title\"><span class=\"rank\">30.</span></td>      <td valign=\"top\" class=\"votelinks\"><center><a id='up_22278231' href='vote?id=22278231&amp;how=up&amp;goto=news'><div class='votearrow' title='upvote'></div></a></center></td><td class=\"title\"><a href=\"https://www.nytimes.com/2020/02/01/science/asteroid-dinosaurs-crater-bacteria.html\" class=\"storylink\">Asteroid that killed the dinosaurs was great for bacteria</a><span class=\"sitebit comhead\"> (<a href=\"from?site=nytimes.com\"><span class=\"sitestr\">nytimes.com</span></a>)</span></td></tr><tr><td colspan=\"2\"></td><td class=\"subtext\">\n",
      "        <span class=\"score\" id=\"score_22278231\">30 points</span> by <a href=\"user?id=dnetesn\" class=\"hnuser\">dnetesn</a> <span class=\"age\"><a href=\"item?id=22278231\">7 hours ago</a></span> <span id=\"unv_22278231\"></span> | <a href=\"hide?id=22278231&amp;goto=news\">hide</a> | <a href=\"item?id=22278231\">4&nbsp;comments</a>              </td></tr>\n",
      "      <tr class=\"spacer\" style=\"height:5px\"></tr>\n",
      "            <tr class=\"morespace\" style=\"height:10px\"></tr><tr><td colspan=\"2\"></td><td class=\"title\"><a href=\"news?p=2\" class=\"morelink\" rel=\"next\">More</a></td></tr>\n",
      "  </table>\n",
      "</td></tr>\n",
      "<tr><td><img src=\"s.gif\" height=\"10\" width=\"0\"><table width=\"100%\" cellspacing=\"0\" cellpadding=\"1\"><tr><td bgcolor=\"#ff6600\"></td></tr></table><br><center><a href=\"https://www.ycombinator.com/apply/\">\n",
      "        Applications are open for YC Summer 2020\n",
      "      </a></center><br><center><span class=\"yclinks\"><a href=\"newsguidelines.html\">Guidelines</a>\n",
      "        | <a href=\"newsfaq.html\">FAQ</a>\n",
      "        | <a href=\"mailto:hn@ycombinator.com\">Support</a>\n",
      "        | <a href=\"https://github.com/HackerNews/API\">API</a>\n",
      "        | <a href=\"security.html\">Security</a>\n",
      "        | <a href=\"lists\">Lists</a>\n",
      "        | <a href=\"bookmarklet.html\" rel=\"nofollow\">Bookmarklet</a>\n",
      "        | <a href=\"http://www.ycombinator.com/legal/\">Legal</a>\n",
      "        | <a href=\"http://www.ycombinator.com/apply/\">Apply to YC</a>\n",
      "        | <a href=\"mailto:hn@ycombinator.com\">Contact</a></span><br><br><form method=\"get\" action=\"//hn.algolia.com/\">Search:\n",
      "          <input type=\"text\" name=\"q\" value=\"\" size=\"17\" autocorrect=\"off\" spellcheck=\"false\" autocapitalize=\"off\" autocomplete=\"false\"></form>\n",
      "            </center></td></tr>\n",
      "      </table></center></body><script type='text/javascript' src='hn.js?I1JdiACTDx2yx3SZspCv'></script></html>\n",
      "\n"
     ]
    }
   ],
   "source": [
    "import requests\n",
    "\n",
    "# Fetch a web page\n",
    "r = requests.get(\"https://news.ycombinator.com\")\n",
    "print(r.text)"
   ]
  },
  {
   "cell_type": "code",
   "execution_count": 5,
   "metadata": {},
   "outputs": [
    {
     "name": "stdout",
     "output_type": "stream",
     "text": [
      "\n",
      "        \n",
      "          \n",
      "        Hacker News\n",
      "        \n",
      "                  Hacker News\n",
      "              new | past | comments | ask | show | jobs | submit            \n",
      "                              login\n",
      "                          \n",
      "              \n",
      "\n",
      "              \n",
      "      1.      Building Firefox's Picture-in-Picture Support (hacks.mozilla.org)\n",
      "        55 points by primogen 1 hour ago  | hide | 27&nbsp;comments              \n",
      "      \n",
      "                \n",
      "      2.      Run your own high-end cloud gaming service on EC2 (2015) (lg.io)\n",
      "        16 points by tosh 28 minutes ago  | hide | 2&nbsp;comments              \n",
      "      \n",
      "                \n",
      "      3.      Who Did This? (etymonline.com)\n",
      "        73 points by dredmorbius 3 hours ago  | hide | 8&nbsp;comments              \n",
      "      \n",
      "                \n",
      "      4.      How the JPL works to secure its missions from adversaries (techcrunch.com)\n",
      "        91 points by ajaviaad 5 hours ago  | hide | 24&nbsp;comments              \n",
      "      \n",
      "                \n",
      "      5.      Contextualise: Manage your knowledge (github.com)\n",
      "        45 points by brettkromkamp 3 hours ago  | hide | 11&nbsp;comments              \n",
      "      \n",
      "                \n",
      "      6.      Reasons not to become famous (tim.blog)\n",
      "        514 points by imgabe 12 hours ago  | hide | 254&nbsp;comments              \n",
      "      \n",
      "                \n",
      "      7.      Siggraph2019 Geometric Algebra (2019) [video] (youtube.com)\n",
      "        50 points by lelf 4 hours ago  | hide | 4&nbsp;comments              \n",
      "      \n",
      "                \n",
      "      8.      How to reduce 'attention residue' (bbc.com)\n",
      "        43 points by prostoalex 4 hours ago  | hide | 10&nbsp;comments              \n",
      "      \n",
      "                \n",
      "      9.      Dopamine and Temporal Difference Learning (deepmind.com)\n",
      "        8 points by magoghm 1 hour ago  | hide | discuss              \n",
      "      \n",
      "                \n",
      "      10.      Cotton Candy (cottoncandy.net)\n",
      "        31 points by lelf 3 hours ago  | hide | 7&nbsp;comments              \n",
      "      \n",
      "                \n",
      "      11.      A half century ago, better transistors revolutionized computer power supplies (ieee.org)\n",
      "        30 points by kens 3 hours ago  | hide | 6&nbsp;comments              \n",
      "      \n",
      "                \n",
      "      12.      Flang: The Fortran frontend of LLVM [video] (fosdem.org)\n",
      "        110 points by pjmlp 7 hours ago  | hide | 70&nbsp;comments              \n",
      "      \n",
      "                \n",
      "      13.      Wrestling Python into LLVM Intermediate Representation (2019) [video] (youtube.com)\n",
      "        28 points by tomrod 3 hours ago  | hide | 5&nbsp;comments              \n",
      "      \n",
      "                \n",
      "      14.      Rollerball pens that use fountain pen ink (unsharpen.com)\n",
      "        53 points by toymachine 5 hours ago  | hide | 32&nbsp;comments              \n",
      "      \n",
      "                \n",
      "      15.      Stacked Borrows: An Aliasing Model for Rust (mpi-sws.org)\n",
      "        141 points by pjmlp 10 hours ago  | hide | 23&nbsp;comments              \n",
      "      \n",
      "                \n",
      "      16.      Blender GIS (github.com)\n",
      "        121 points by ryannevius 8 hours ago  | hide | 17&nbsp;comments              \n",
      "      \n",
      "                \n",
      "      17.      Unexpected places you can and can’t use null bytes (eklitzke.org)\n",
      "        33 points by ammmir 5 hours ago  | hide | 30&nbsp;comments              \n",
      "      \n",
      "                \n",
      "      18.      Diffing Coronaviruses (jameshfisher.com)\n",
      "        74 points by jamesfisher 4 hours ago  | hide | 12&nbsp;comments              \n",
      "      \n",
      "                \n",
      "      19.      Infield top-aligned labels beat floating labels on forms (uxmovement.com)\n",
      "        28 points by dojosensei 4 hours ago  | hide | 5&nbsp;comments              \n",
      "      \n",
      "                \n",
      "      20.      Eiffel programming language (wikipedia.org)\n",
      "        64 points by modinfo 7 hours ago  | hide | 41&nbsp;comments              \n",
      "      \n",
      "                \n",
      "      21.      Design: The Key to Writing (and Advising) a One-Draft Thesis (2002) [pdf] (tufts.edu)\n",
      "        5 points by Tomte 1 hour ago  | hide | discuss              \n",
      "      \n",
      "                \n",
      "      22.      When to use dictionary compression (2018) (fastcompression.blogspot.com)\n",
      "        11 points by luu 3 hours ago  | hide | 1&nbsp;comment              \n",
      "      \n",
      "                \n",
      "      23.      Editing distance clusters: a greedy string classification algorithm (wjholden.com)\n",
      "        19 points by wjholden 3 hours ago  | hide | 1&nbsp;comment              \n",
      "      \n",
      "                \n",
      "      24.      HopSkipDrive raises $22M to focus on school transportation (techcrunch.com)\n",
      "        7 points by prostoalex 1 hour ago  | hide | 1&nbsp;comment              \n",
      "      \n",
      "                \n",
      "      25.      An optimization to help code compilation times on big CPUs (phoronix.com)\n",
      "        118 points by eaguyhn 6 hours ago  | hide | 30&nbsp;comments              \n",
      "      \n",
      "                \n",
      "      26.      How much better was DEC Alpha than contemporary x86? (stackexchange.com)\n",
      "        74 points by turrini 5 hours ago  | hide | 81&nbsp;comments              \n",
      "      \n",
      "                \n",
      "      27.      How to detect web bots? (antoinevastel.com)\n",
      "        26 points by avastel 6 hours ago  | hide | 12&nbsp;comments              \n",
      "      \n",
      "                \n",
      "      28.      The scheme to bury Charles Dickens in Westminster Abbey, against his wishes (smithsonianmag.com)\n",
      "        21 points by pseudolus 6 hours ago  | hide | 1&nbsp;comment              \n",
      "      \n",
      "                \n",
      "      29.      Google's expansion plans show why Canada's tech boom is here to stay (cbc.ca)\n",
      "        160 points by rubayeet 14 hours ago  | hide | 187&nbsp;comments              \n",
      "      \n",
      "                \n",
      "      30.      Asteroid that killed the dinosaurs was great for bacteria (nytimes.com)\n",
      "        30 points by dnetesn 7 hours ago  | hide | 4&nbsp;comments              \n",
      "      \n",
      "            More\n",
      "  \n",
      "\n",
      "\n",
      "        Applications are open for YC Summer 2020\n",
      "      Guidelines\n",
      "        | FAQ\n",
      "        | Support\n",
      "        | API\n",
      "        | Security\n",
      "        | Lists\n",
      "        | Bookmarklet\n",
      "        | Legal\n",
      "        | Apply to YC\n",
      "        | ContactSearch:\n",
      "          \n",
      "            \n",
      "      \n",
      "\n"
     ]
    }
   ],
   "source": [
    "import re\n",
    "\n",
    "# Remove HTML tags using RegEx\n",
    "pattern = re.compile(r'<.*?>')  # tags look like <...>\n",
    "print(pattern.sub('', r.text))  # replace them with blank"
   ]
  },
  {
   "cell_type": "code",
   "execution_count": 6,
   "metadata": {},
   "outputs": [
    {
     "name": "stdout",
     "output_type": "stream",
     "text": [
      "\n",
      "        \n",
      "          \n",
      "        Hacker News\n",
      "        \n",
      "                  Hacker News\n",
      "              new | past | comments | ask | show | jobs | submit            \n",
      "                              login\n",
      "                          \n",
      "              \n",
      "\n",
      "              \n",
      "      1.      Building Firefox's Picture-in-Picture Support (hacks.mozilla.org)\n",
      "        55 points by primogen 1 hour ago  | hide | 27 comments              \n",
      "      \n",
      "                \n",
      "      2.      Run your own high-end cloud gaming service on EC2 (2015) (lg.io)\n",
      "        16 points by tosh 28 minutes ago  | hide | 2 comments              \n",
      "      \n",
      "                \n",
      "      3.      Who Did This? (etymonline.com)\n",
      "        73 points by dredmorbius 3 hours ago  | hide | 8 comments              \n",
      "      \n",
      "                \n",
      "      4.      How the JPL works to secure its missions from adversaries (techcrunch.com)\n",
      "        91 points by ajaviaad 5 hours ago  | hide | 24 comments              \n",
      "      \n",
      "                \n",
      "      5.      Contextualise: Manage your knowledge (github.com)\n",
      "        45 points by brettkromkamp 3 hours ago  | hide | 11 comments              \n",
      "      \n",
      "                \n",
      "      6.      Reasons not to become famous (tim.blog)\n",
      "        514 points by imgabe 12 hours ago  | hide | 254 comments              \n",
      "      \n",
      "                \n",
      "      7.      Siggraph2019 Geometric Algebra (2019) [video] (youtube.com)\n",
      "        50 points by lelf 4 hours ago  | hide | 4 comments              \n",
      "      \n",
      "                \n",
      "      8.      How to reduce 'attention residue' (bbc.com)\n",
      "        43 points by prostoalex 4 hours ago  | hide | 10 comments              \n",
      "      \n",
      "                \n",
      "      9.      Dopamine and Temporal Difference Learning (deepmind.com)\n",
      "        8 points by magoghm 1 hour ago  | hide | discuss              \n",
      "      \n",
      "                \n",
      "      10.      Cotton Candy (cottoncandy.net)\n",
      "        31 points by lelf 3 hours ago  | hide | 7 comments              \n",
      "      \n",
      "                \n",
      "      11.      A half century ago, better transistors revolutionized computer power supplies (ieee.org)\n",
      "        30 points by kens 3 hours ago  | hide | 6 comments              \n",
      "      \n",
      "                \n",
      "      12.      Flang: The Fortran frontend of LLVM [video] (fosdem.org)\n",
      "        110 points by pjmlp 7 hours ago  | hide | 70 comments              \n",
      "      \n",
      "                \n",
      "      13.      Wrestling Python into LLVM Intermediate Representation (2019) [video] (youtube.com)\n",
      "        28 points by tomrod 3 hours ago  | hide | 5 comments              \n",
      "      \n",
      "                \n",
      "      14.      Rollerball pens that use fountain pen ink (unsharpen.com)\n",
      "        53 points by toymachine 5 hours ago  | hide | 32 comments              \n",
      "      \n",
      "                \n",
      "      15.      Stacked Borrows: An Aliasing Model for Rust (mpi-sws.org)\n",
      "        141 points by pjmlp 10 hours ago  | hide | 23 comments              \n",
      "      \n",
      "                \n",
      "      16.      Blender GIS (github.com)\n",
      "        121 points by ryannevius 8 hours ago  | hide | 17 comments              \n",
      "      \n",
      "                \n",
      "      17.      Unexpected places you can and can’t use null bytes (eklitzke.org)\n",
      "        33 points by ammmir 5 hours ago  | hide | 30 comments              \n",
      "      \n",
      "                \n",
      "      18.      Diffing Coronaviruses (jameshfisher.com)\n",
      "        74 points by jamesfisher 4 hours ago  | hide | 12 comments              \n",
      "      \n",
      "                \n",
      "      19.      Infield top-aligned labels beat floating labels on forms (uxmovement.com)\n",
      "        28 points by dojosensei 4 hours ago  | hide | 5 comments              \n",
      "      \n",
      "                \n",
      "      20.      Eiffel programming language (wikipedia.org)\n",
      "        64 points by modinfo 7 hours ago  | hide | 41 comments              \n",
      "      \n",
      "                \n",
      "      21.      Design: The Key to Writing (and Advising) a One-Draft Thesis (2002) [pdf] (tufts.edu)\n",
      "        5 points by Tomte 1 hour ago  | hide | discuss              \n",
      "      \n",
      "                \n",
      "      22.      When to use dictionary compression (2018) (fastcompression.blogspot.com)\n",
      "        11 points by luu 3 hours ago  | hide | 1 comment              \n",
      "      \n",
      "                \n",
      "      23.      Editing distance clusters: a greedy string classification algorithm (wjholden.com)\n",
      "        19 points by wjholden 3 hours ago  | hide | 1 comment              \n",
      "      \n",
      "                \n",
      "      24.      HopSkipDrive raises $22M to focus on school transportation (techcrunch.com)\n",
      "        7 points by prostoalex 1 hour ago  | hide | 1 comment              \n",
      "      \n",
      "                \n",
      "      25.      An optimization to help code compilation times on big CPUs (phoronix.com)\n",
      "        118 points by eaguyhn 6 hours ago  | hide | 30 comments              \n",
      "      \n",
      "                \n",
      "      26.      How much better was DEC Alpha than contemporary x86? (stackexchange.com)\n",
      "        74 points by turrini 5 hours ago  | hide | 81 comments              \n",
      "      \n",
      "                \n",
      "      27.      How to detect web bots? (antoinevastel.com)\n",
      "        26 points by avastel 6 hours ago  | hide | 12 comments              \n",
      "      \n",
      "                \n",
      "      28.      The scheme to bury Charles Dickens in Westminster Abbey, against his wishes (smithsonianmag.com)\n",
      "        21 points by pseudolus 6 hours ago  | hide | 1 comment              \n",
      "      \n",
      "                \n",
      "      29.      Google's expansion plans show why Canada's tech boom is here to stay (cbc.ca)\n",
      "        160 points by rubayeet 14 hours ago  | hide | 187 comments              \n",
      "      \n",
      "                \n",
      "      30.      Asteroid that killed the dinosaurs was great for bacteria (nytimes.com)\n",
      "        30 points by dnetesn 7 hours ago  | hide | 4 comments              \n",
      "      \n",
      "            More\n",
      "  \n",
      "\n",
      "\n",
      "        Applications are open for YC Summer 2020\n",
      "      Guidelines\n",
      "        | FAQ\n",
      "        | Support\n",
      "        | API\n",
      "        | Security\n",
      "        | Lists\n",
      "        | Bookmarklet\n",
      "        | Legal\n",
      "        | Apply to YC\n",
      "        | ContactSearch:\n",
      "          \n",
      "            \n",
      "      \n",
      "\n"
     ]
    }
   ],
   "source": [
    "from bs4 import BeautifulSoup\n",
    "\n",
    "# Remove HTML tags using Beautiful Soup library\n",
    "soup = BeautifulSoup(r.text, \"html5lib\")\n",
    "print(soup.get_text())"
   ]
  },
  {
   "cell_type": "code",
   "execution_count": 7,
   "metadata": {
    "scrolled": true
   },
   "outputs": [
    {
     "data": {
      "text/plain": [
       "<tr class=\"athing\" id=\"22283386\">\n",
       "      <td align=\"right\" class=\"title\" valign=\"top\"><span class=\"rank\">1.</span></td>      <td class=\"votelinks\" valign=\"top\"><center><a href=\"vote?id=22283386&amp;how=up&amp;goto=news\" id=\"up_22283386\"><div class=\"votearrow\" title=\"upvote\"></div></a></center></td><td class=\"title\"><a class=\"storylink\" href=\"https://hacks.mozilla.org/2020/01/how-we-built-picture-in-picture-in-firefox-desktop/\">Building Firefox's Picture-in-Picture Support</a><span class=\"sitebit comhead\"> (<a href=\"from?site=hacks.mozilla.org\"><span class=\"sitestr\">hacks.mozilla.org</span></a>)</span></td></tr>"
      ]
     },
     "execution_count": 7,
     "metadata": {},
     "output_type": "execute_result"
    }
   ],
   "source": [
    "# Find all articles\n",
    "summaries = soup.find_all(\"tr\", class_=\"athing\")\n",
    "summaries[0]"
   ]
  },
  {
   "cell_type": "code",
   "execution_count": 8,
   "metadata": {},
   "outputs": [
    {
     "data": {
      "text/plain": [
       "\"Building Firefox's Picture-in-Picture Support\""
      ]
     },
     "execution_count": 8,
     "metadata": {},
     "output_type": "execute_result"
    }
   ],
   "source": [
    "# Extract title\n",
    "summaries[0].find(\"a\", class_=\"storylink\").get_text().strip()"
   ]
  },
  {
   "cell_type": "code",
   "execution_count": 9,
   "metadata": {},
   "outputs": [
    {
     "name": "stdout",
     "output_type": "stream",
     "text": [
      "30 Article summaries found. Sample:\n",
      "Building Firefox's Picture-in-Picture Support\n"
     ]
    }
   ],
   "source": [
    "# Find all articles, extract titles\n",
    "articles = []\n",
    "summaries = soup.find_all(\"tr\", class_=\"athing\")\n",
    "for summary in summaries:\n",
    "    title = summary.find(\"a\", class_=\"storylink\").get_text().strip()\n",
    "    articles.append((title))\n",
    "\n",
    "print(len(articles), \"Article summaries found. Sample:\")\n",
    "print(articles[0])"
   ]
  },
  {
   "cell_type": "markdown",
   "metadata": {
    "collapsed": true
   },
   "source": [
    "## Normalization"
   ]
  },
  {
   "cell_type": "markdown",
   "metadata": {},
   "source": [
    "### Case Normalization"
   ]
  },
  {
   "cell_type": "code",
   "execution_count": 10,
   "metadata": {},
   "outputs": [
    {
     "name": "stdout",
     "output_type": "stream",
     "text": [
      "The first time you see The Second Renaissance it may look boring. Look at it at least twice and definitely watch part 2. It will change your view of the matrix. Are the human people the ones who started the war ? Is AI a bad thing ?\n"
     ]
    }
   ],
   "source": [
    "# Sample text\n",
    "text = \"The first time you see The Second Renaissance it may look boring. Look at it at least twice and definitely watch part 2. It will change your view of the matrix. Are the human people the ones who started the war ? Is AI a bad thing ?\"\n",
    "print(text)"
   ]
  },
  {
   "cell_type": "code",
   "execution_count": 11,
   "metadata": {},
   "outputs": [
    {
     "name": "stdout",
     "output_type": "stream",
     "text": [
      "the first time you see the second renaissance it may look boring. look at it at least twice and definitely watch part 2. it will change your view of the matrix. are the human people the ones who started the war ? is ai a bad thing ?\n"
     ]
    }
   ],
   "source": [
    "# Convert to lowercase\n",
    "text = text.lower() \n",
    "print(text)"
   ]
  },
  {
   "cell_type": "markdown",
   "metadata": {},
   "source": [
    "### Punctuation Removal"
   ]
  },
  {
   "cell_type": "code",
   "execution_count": 12,
   "metadata": {},
   "outputs": [
    {
     "name": "stdout",
     "output_type": "stream",
     "text": [
      "the first time you see the second renaissance it may look boring  look at it at least twice and definitely watch part 2  it will change your view of the matrix  are the human people the ones who started the war   is ai a bad thing  \n"
     ]
    }
   ],
   "source": [
    "import re\n",
    "\n",
    "# Remove punctuation characters\n",
    "text = re.sub(r\"[^a-zA-Z0-9]\", \" \", text) \n",
    "print(text)"
   ]
  },
  {
   "cell_type": "markdown",
   "metadata": {},
   "source": [
    "## Tokenization"
   ]
  },
  {
   "cell_type": "code",
   "execution_count": 13,
   "metadata": {},
   "outputs": [
    {
     "name": "stdout",
     "output_type": "stream",
     "text": [
      "['the', 'first', 'time', 'you', 'see', 'the', 'second', 'renaissance', 'it', 'may', 'look', 'boring', 'look', 'at', 'it', 'at', 'least', 'twice', 'and', 'definitely', 'watch', 'part', '2', 'it', 'will', 'change', 'your', 'view', 'of', 'the', 'matrix', 'are', 'the', 'human', 'people', 'the', 'ones', 'who', 'started', 'the', 'war', 'is', 'ai', 'a', 'bad', 'thing']\n"
     ]
    }
   ],
   "source": [
    "# Split text into tokens (words)\n",
    "words = text.split()\n",
    "print(words)"
   ]
  },
  {
   "cell_type": "markdown",
   "metadata": {},
   "source": [
    "### NLTK: Natural Language ToolKit"
   ]
  },
  {
   "cell_type": "code",
   "execution_count": 14,
   "metadata": {},
   "outputs": [],
   "source": [
    "import os\n",
    "import nltk\n",
    "nltk.data.path.append(os.path.join(os.getcwd(), \"nltk_data\"))"
   ]
  },
  {
   "cell_type": "code",
   "execution_count": 15,
   "metadata": {},
   "outputs": [
    {
     "name": "stdout",
     "output_type": "stream",
     "text": [
      "Dr. Smith graduated from the University of Washington. He later started an analytics firm called Lux, which catered to enterprise customers.\n"
     ]
    }
   ],
   "source": [
    "# Another sample text\n",
    "text = \"Dr. Smith graduated from the University of Washington. He later started an analytics firm called Lux, which catered to enterprise customers.\"\n",
    "print(text)"
   ]
  },
  {
   "cell_type": "code",
   "execution_count": 16,
   "metadata": {},
   "outputs": [
    {
     "name": "stdout",
     "output_type": "stream",
     "text": [
      "['Dr.', 'Smith', 'graduated', 'from', 'the', 'University', 'of', 'Washington', '.', 'He', 'later', 'started', 'an', 'analytics', 'firm', 'called', 'Lux', ',', 'which', 'catered', 'to', 'enterprise', 'customers', '.']\n"
     ]
    }
   ],
   "source": [
    "from nltk.tokenize import word_tokenize\n",
    "\n",
    "# Split text into words using NLTK\n",
    "words = word_tokenize(text)\n",
    "print(words)"
   ]
  },
  {
   "cell_type": "code",
   "execution_count": 17,
   "metadata": {},
   "outputs": [
    {
     "name": "stdout",
     "output_type": "stream",
     "text": [
      "['Dr. Smith graduated from the University of Washington.', 'He later started an analytics firm called Lux, which catered to enterprise customers.']\n"
     ]
    }
   ],
   "source": [
    "from nltk.tokenize import sent_tokenize\n",
    "\n",
    "# Split text into sentences\n",
    "sentences = sent_tokenize(text)\n",
    "print(sentences)"
   ]
  },
  {
   "cell_type": "code",
   "execution_count": 18,
   "metadata": {},
   "outputs": [
    {
     "name": "stdout",
     "output_type": "stream",
     "text": [
      "['i', 'me', 'my', 'myself', 'we', 'our', 'ours', 'ourselves', 'you', \"you're\", \"you've\", \"you'll\", \"you'd\", 'your', 'yours', 'yourself', 'yourselves', 'he', 'him', 'his', 'himself', 'she', \"she's\", 'her', 'hers', 'herself', 'it', \"it's\", 'its', 'itself', 'they', 'them', 'their', 'theirs', 'themselves', 'what', 'which', 'who', 'whom', 'this', 'that', \"that'll\", 'these', 'those', 'am', 'is', 'are', 'was', 'were', 'be', 'been', 'being', 'have', 'has', 'had', 'having', 'do', 'does', 'did', 'doing', 'a', 'an', 'the', 'and', 'but', 'if', 'or', 'because', 'as', 'until', 'while', 'of', 'at', 'by', 'for', 'with', 'about', 'against', 'between', 'into', 'through', 'during', 'before', 'after', 'above', 'below', 'to', 'from', 'up', 'down', 'in', 'out', 'on', 'off', 'over', 'under', 'again', 'further', 'then', 'once', 'here', 'there', 'when', 'where', 'why', 'how', 'all', 'any', 'both', 'each', 'few', 'more', 'most', 'other', 'some', 'such', 'no', 'nor', 'not', 'only', 'own', 'same', 'so', 'than', 'too', 'very', 's', 't', 'can', 'will', 'just', 'don', \"don't\", 'should', \"should've\", 'now', 'd', 'll', 'm', 'o', 're', 've', 'y', 'ain', 'aren', \"aren't\", 'couldn', \"couldn't\", 'didn', \"didn't\", 'doesn', \"doesn't\", 'hadn', \"hadn't\", 'hasn', \"hasn't\", 'haven', \"haven't\", 'isn', \"isn't\", 'ma', 'mightn', \"mightn't\", 'mustn', \"mustn't\", 'needn', \"needn't\", 'shan', \"shan't\", 'shouldn', \"shouldn't\", 'wasn', \"wasn't\", 'weren', \"weren't\", 'won', \"won't\", 'wouldn', \"wouldn't\"]\n"
     ]
    }
   ],
   "source": [
    "# List stop words\n",
    "from nltk.corpus import stopwords\n",
    "print(stopwords.words(\"english\"))"
   ]
  },
  {
   "cell_type": "code",
   "execution_count": 19,
   "metadata": {},
   "outputs": [
    {
     "name": "stdout",
     "output_type": "stream",
     "text": [
      "['the', 'first', 'time', 'you', 'see', 'the', 'second', 'renaissance', 'it', 'may', 'look', 'boring', 'look', 'at', 'it', 'at', 'least', 'twice', 'and', 'definitely', 'watch', 'part', '2', 'it', 'will', 'change', 'your', 'view', 'of', 'the', 'matrix', 'are', 'the', 'human', 'people', 'the', 'ones', 'who', 'started', 'the', 'war', 'is', 'ai', 'a', 'bad', 'thing']\n"
     ]
    }
   ],
   "source": [
    "# Reset text\n",
    "text = \"The first time you see The Second Renaissance it may look boring. Look at it at least twice and definitely watch part 2. It will change your view of the matrix. Are the human people the ones who started the war ? Is AI a bad thing ?\"\n",
    "\n",
    "# Normalize it\n",
    "text = re.sub(r\"[^a-zA-Z0-9]\", \" \", text.lower())\n",
    "\n",
    "# Tokenize it\n",
    "words = text.split()\n",
    "print(words)"
   ]
  },
  {
   "cell_type": "code",
   "execution_count": 20,
   "metadata": {},
   "outputs": [
    {
     "name": "stdout",
     "output_type": "stream",
     "text": [
      "['first', 'time', 'see', 'second', 'renaissance', 'may', 'look', 'boring', 'look', 'least', 'twice', 'definitely', 'watch', 'part', '2', 'change', 'view', 'matrix', 'human', 'people', 'ones', 'started', 'war', 'ai', 'bad', 'thing']\n"
     ]
    }
   ],
   "source": [
    "# Remove stop words\n",
    "words = [w for w in words if w not in stopwords.words(\"english\")]\n",
    "print(words)"
   ]
  },
  {
   "cell_type": "markdown",
   "metadata": {},
   "source": [
    "### Sentence Parsing"
   ]
  },
  {
   "cell_type": "code",
   "execution_count": 21,
   "metadata": {},
   "outputs": [
    {
     "name": "stdout",
     "output_type": "stream",
     "text": [
      "(S\n",
      "  (NP I)\n",
      "  (VP\n",
      "    (VP (V shot) (NP (Det an) (N elephant)))\n",
      "    (PP (P in) (NP (Det my) (N pajamas)))))\n",
      "(S\n",
      "  (NP I)\n",
      "  (VP\n",
      "    (V shot)\n",
      "    (NP (Det an) (N elephant) (PP (P in) (NP (Det my) (N pajamas))))))\n"
     ]
    }
   ],
   "source": [
    "import nltk\n",
    "\n",
    "# Define a custom grammar\n",
    "my_grammar = nltk.CFG.fromstring(\"\"\"\n",
    "S -> NP VP\n",
    "PP -> P NP\n",
    "NP -> Det N | Det N PP | 'I'\n",
    "VP -> V NP | VP PP\n",
    "Det -> 'an' | 'my'\n",
    "N -> 'elephant' | 'pajamas'\n",
    "V -> 'shot'\n",
    "P -> 'in'\n",
    "\"\"\")\n",
    "parser = nltk.ChartParser(my_grammar)\n",
    "\n",
    "# Parse a sentence\n",
    "sentence = word_tokenize(\"I shot an elephant in my pajamas\")\n",
    "for tree in parser.parse(sentence):\n",
    "    print(tree)"
   ]
  },
  {
   "cell_type": "markdown",
   "metadata": {},
   "source": [
    "## Stemming & Lemmatization\n",
    "\n",
    "### Stemming"
   ]
  },
  {
   "cell_type": "code",
   "execution_count": 22,
   "metadata": {},
   "outputs": [
    {
     "name": "stdout",
     "output_type": "stream",
     "text": [
      "['first', 'time', 'see', 'second', 'renaiss', 'may', 'look', 'bore', 'look', 'least', 'twice', 'definit', 'watch', 'part', '2', 'chang', 'view', 'matrix', 'human', 'peopl', 'one', 'start', 'war', 'ai', 'bad', 'thing']\n"
     ]
    }
   ],
   "source": [
    "from nltk.stem.porter import PorterStemmer\n",
    "\n",
    "# Reduce words to their stems\n",
    "stemmed = [PorterStemmer().stem(w) for w in words]\n",
    "print(stemmed)"
   ]
  },
  {
   "cell_type": "markdown",
   "metadata": {},
   "source": [
    "### Lemmatization"
   ]
  },
  {
   "cell_type": "code",
   "execution_count": 23,
   "metadata": {},
   "outputs": [
    {
     "name": "stdout",
     "output_type": "stream",
     "text": [
      "['first', 'time', 'see', 'second', 'renaissance', 'may', 'look', 'boring', 'look', 'least', 'twice', 'definitely', 'watch', 'part', '2', 'change', 'view', 'matrix', 'human', 'people', 'one', 'started', 'war', 'ai', 'bad', 'thing']\n"
     ]
    }
   ],
   "source": [
    "from nltk.stem.wordnet import WordNetLemmatizer\n",
    "\n",
    "# Reduce words to their root form\n",
    "lemmed = [WordNetLemmatizer().lemmatize(w) for w in words]\n",
    "print(lemmed)"
   ]
  },
  {
   "cell_type": "code",
   "execution_count": 24,
   "metadata": {},
   "outputs": [
    {
     "name": "stdout",
     "output_type": "stream",
     "text": [
      "['first', 'time', 'see', 'second', 'renaissance', 'may', 'look', 'bore', 'look', 'least', 'twice', 'definitely', 'watch', 'part', '2', 'change', 'view', 'matrix', 'human', 'people', 'one', 'start', 'war', 'ai', 'bad', 'thing']\n"
     ]
    }
   ],
   "source": [
    "# Lemmatize verbs by specifying pos\n",
    "lemmed = [WordNetLemmatizer().lemmatize(w, pos='v') for w in lemmed]\n",
    "print(lemmed)"
   ]
  },
  {
   "cell_type": "code",
   "execution_count": null,
   "metadata": {},
   "outputs": [],
   "source": []
  }
 ],
 "metadata": {
  "kernelspec": {
   "display_name": "Python 3",
   "language": "python",
   "name": "python3"
  },
  "language_info": {
   "codemirror_mode": {
    "name": "ipython",
    "version": 3
   },
   "file_extension": ".py",
   "mimetype": "text/x-python",
   "name": "python",
   "nbconvert_exporter": "python",
   "pygments_lexer": "ipython3",
   "version": "3.6.3"
  }
 },
 "nbformat": 4,
 "nbformat_minor": 2
}
